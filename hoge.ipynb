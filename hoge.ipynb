{
 "cells": [
  {
   "cell_type": "code",
   "execution_count": null,
   "metadata": {},
   "outputs": [],
   "source": [
    "import cv2\n",
    "import os\n",
    "\n",
    "def save_frame_camera_key(device_num, dir_path, basename, ext='jpg', delay=1, window_name='frame'):\n",
    "    cap = cv2.VideoCapture(device_num)\n",
    "\n",
    "    if not cap.isOpened():\n",
    "        return\n",
    "\n",
    "    os.makedirs(dir_path, exist_ok=True)\n",
    "    base_path = os.path.join(dir_path, basename)\n",
    "\n",
    "    n = 0\n",
    "    while True:\n",
    "        ret, frame = cap.read()\n",
    "        cv2.imshow(window_name, frame)\n",
    "        key = cv2.waitKey(delay) & 0xFF\n",
    "        if key == ord('c'):\n",
    "            cv2.imwrite('{}_{}.{}'.format(base_path, n, ext), frame)\n",
    "            n += 1\n",
    "        elif key == ord('q'):\n",
    "            break\n",
    "\n",
    "    cv2.destroyWindow(window_name)\n",
    "\n",
    "\n",
    "save_frame_camera_key(0, 'data/temp', 'camera_capture')"
   ]
  }
 ],
 "metadata": {
  "kernelspec": {
   "display_name": "Python 3",
   "language": "python",
   "name": "python3"
  },
  "language_info": {
   "codemirror_mode": {
    "name": "ipython",
    "version": 3
   },
   "file_extension": ".py",
   "mimetype": "text/x-python",
   "name": "python",
   "nbconvert_exporter": "python",
   "pygments_lexer": "ipython3",
   "version": "3.7.2"
  }
 },
 "nbformat": 4,
 "nbformat_minor": 2
}
