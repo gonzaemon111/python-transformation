{
 "cells": [
  {
   "cell_type": "code",
   "execution_count": 2,
   "metadata": {},
   "outputs": [
    {
     "name": "stdout",
     "output_type": "stream",
     "text": [
      "4\n",
      "3024\n",
      "4032\n",
      "3\n"
     ]
    },
    {
     "data": {
      "text/plain": [
       "<matplotlib.image.AxesImage at 0x127b18710>"
      ]
     },
     "execution_count": 2,
     "metadata": {},
     "output_type": "execute_result"
    },
    {
     "data": {
      "image/png": "[encoded data removed]",
      "text/plain": [
       "<Figure size 432x288 with 1 Axes>"
      ]
     },
     "metadata": {
      "needs_background": "light"
     },
     "output_type": "display_data"
    }
   ],
   "source": [
    "%matplotlib inline\n",
    "import cv2\n",
    "import matplotlib.pyplot as plt\n",
    "import numpy as np\n",
    "\n",
    "img = cv2.imread('./dev_images/IMG_2254.jpg') #imreadの第2引数に0を指定するとグレースケールで読み込み\n",
    "\n",
    "print(cv2.COLOR_BGR2RGB)\n",
    "# plt.gray() #matplotlibでグレースケールを使用する場合はグレースケールで読み込むように指定\n",
    "plt.imshow(img)\n",
    "rows, cols, channel = img.shape\n",
    "print(rows)\n",
    "print(cols)\n",
    "print(channel)\n",
    "x0 = cols/4\n",
    "x1 = (cols*3)/4\n",
    "y0 = rows/4\n",
    "y1 = (rows*3)/4\n",
    "\n",
    "list_srcs = np.float32([[x0, y0],[x0, y1],[x1, y1],[x1, y0]])\n",
    "\n",
    "x_margin = cols/10\n",
    "y_margin = rows/10\n",
    "\n",
    "list_dsts = np.float32([[x0+x_margin, y0+y_margin],list_srcs[1],list_srcs[2],[x1-x_margin, y0+y_margin]])\n",
    "\n",
    "perspective_matrix = cv2.getPerspectiveTransform(list_srcs,list_dsts)\n",
    "dst = cv2.warpPerspective(img, perspective_matrix, (cols, rows))\n",
    "plt.imshow(dst)\n",
    "plt.imshow(img)\n",
    "edges = cv2.Canny(img,100,200)\n",
    "# 画像を表示\n",
    "plt.imshow(edges)"
   ]
  },
  {
   "cell_type": "code",
   "execution_count": null,
   "metadata": {},
   "outputs": [],
   "source": []
  }
 ],
 "metadata": {
  "kernelspec": {
   "display_name": "Python 3",
   "language": "python",
   "name": "python3"
  },
  "language_info": {
   "codemirror_mode": {
    "name": "ipython",
    "version": 3
   },
   "file_extension": ".py",
   "mimetype": "text/x-python",
   "name": "python",
   "nbconvert_exporter": "python",
   "pygments_lexer": "ipython3",
   "version": "3.7.2"
  }
 },
 "nbformat": 4,
 "nbformat_minor": 4
}
